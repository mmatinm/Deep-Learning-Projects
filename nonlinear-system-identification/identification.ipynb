{
  "cells": [
    {
      "cell_type": "code",
      "execution_count": null,
      "metadata": {
        "id": "vOcI_yGm0CFt"
      },
      "outputs": [],
      "source": [
        "import numpy as np\n",
        "import matplotlib.pyplot as plt\n",
        "from scipy.integrate import solve_ivp\n",
        "from matplotlib.animation import FuncAnimation"
      ]
    },
    {
      "cell_type": "code",
      "execution_count": null,
      "metadata": {
        "id": "JyiCMCz40CFu",
        "outputId": "834a6c74-af4e-411e-eebf-b1d34a85f631"
      },
      "outputs": [
        {
          "data": {
            "image/png": "[encoded data removed]",
            "text/plain": [
              "<Figure size 640x480 with 1 Axes>"
            ]
          },
          "metadata": {},
          "output_type": "display_data"
        }
      ],
      "source": [
        "import numpy as np\n",
        "import matplotlib.pyplot as plt\n",
        "from scipy.integrate import solve_ivp\n",
        "from matplotlib.animation import FuncAnimation\n",
        "\n",
        "# --- Physical constants ---\n",
        "g = 9.81       # acceleration due to gravity (m/s^2)\n",
        "L1, L2 = 1.0, 1.0  # lengths of pendulums\n",
        "m1, m2 = 1.0, 1.0  # masses\n",
        "\n",
        "# --- Equations of motion ---\n",
        "def double_pendulum_deriv(t, y):\n",
        "    θ1, z1, θ2, z2 = y\n",
        "\n",
        "    delta = θ2 - θ1\n",
        "    den1 = (m1 + m2) * L1 - m2 * L1 * np.cos(delta)**2\n",
        "    den2 = (L2 / L1) * den1\n",
        "\n",
        "    dθ1_dt = z1\n",
        "    dθ2_dt = z2\n",
        "\n",
        "    dz1_dt = (m2 * L1 * z1**2 * np.sin(delta) * np.cos(delta) +\n",
        "              m2 * g * np.sin(θ2) * np.cos(delta) +\n",
        "              m2 * L2 * z2**2 * np.sin(delta) -\n",
        "              (m1 + m2) * g * np.sin(θ1)) / den1\n",
        "\n",
        "    dz2_dt = (-m2 * L2 * z2**2 * np.sin(delta) * np.cos(delta) +\n",
        "              (m1 + m2) * (g * np.sin(θ1) * np.cos(delta) -\n",
        "              L1 * z1**2 * np.sin(delta) -\n",
        "              g * np.sin(θ2))) / den2\n",
        "\n",
        "    return [dθ1_dt, dz1_dt, dθ2_dt, dz2_dt]\n",
        "\n",
        "# --- Initial conditions ---\n",
        "θ1_0 = np.pi / 2  # initial angle for pendulum 1\n",
        "θ2_0 = np.pi / 2  # initial angle for pendulum 2\n",
        "z1_0 = 0.0        # initial angular velocity for pendulum 1\n",
        "z2_0 = 0.0        # initial angular velocity for pendulum 2\n",
        "\n",
        "y0 = [θ1_0, z1_0, θ2_0, z2_0]\n",
        "\n",
        "# --- Time span ---\n",
        "t_span = (0, 20)\n",
        "t_eval = np.linspace(*t_span, 1000)\n",
        "\n",
        "# --- Solve ODE ---\n",
        "sol = solve_ivp(double_pendulum_deriv, t_span, y0, t_eval=t_eval, rtol=1e-10, atol=1e-10)\n",
        "\n",
        "# --- Convert angles to x, y coordinates ---\n",
        "θ1, θ2 = sol.y[0], sol.y[2]\n",
        "x1 = L1 * np.sin(θ1)\n",
        "y1 = -L1 * np.cos(θ1)\n",
        "\n",
        "x2 = x1 + L2 * np.sin(θ2)\n",
        "y2 = y1 - L2 * np.cos(θ2)\n",
        "\n",
        "# --- Animation ---\n",
        "fig, ax = plt.subplots()\n",
        "ax.set_aspect('equal')\n",
        "ax.set_xlim(-2.2, 2.2)\n",
        "ax.set_ylim(-2.2, 2.2)\n",
        "line, = ax.plot([], [], 'o-', lw=2)\n",
        "\n",
        "def update(frame):\n",
        "    thisx = [0, x1[frame], x2[frame]]\n",
        "    thisy = [0, y1[frame], y2[frame]]\n",
        "    line.set_data(thisx, thisy)\n",
        "    return line,\n",
        "\n",
        "ani = FuncAnimation(fig, update, frames=len(t_eval), blit=True, interval=1000 * t_eval[1] / len(t_eval))\n",
        "plt.title(\"Double Pendulum Simulation\")\n",
        "plt.show()\n"
      ]
    },
    {
      "cell_type": "code",
      "source": [
        "####skmdfksldlkgd"
      ],
      "metadata": {
        "id": "Vy97HVrs0FDb"
      },
      "execution_count": null,
      "outputs": []
    }
  ],
  "metadata": {
    "kernelspec": {
      "display_name": "Python (wsln)",
      "language": "python",
      "name": "dpenv"
    },
    "language_info": {
      "codemirror_mode": {
        "name": "ipython",
        "version": 3
      },
      "file_extension": ".py",
      "mimetype": "text/x-python",
      "name": "python",
      "nbconvert_exporter": "python",
      "pygments_lexer": "ipython3",
      "version": "3.12.3"
    },
    "colab": {
      "provenance": []
    }
  },
  "nbformat": 4,
  "nbformat_minor": 0
}